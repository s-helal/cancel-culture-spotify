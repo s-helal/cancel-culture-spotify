{
 "cells": [
  {
   "cell_type": "markdown",
   "id": "3173905b",
   "metadata": {},
   "source": [
    "# Final Project STA141B: \n",
    "## Do public scandals affect the viewer count of Popular Music Artists?"
   ]
  },
  {
   "cell_type": "code",
   "execution_count": 1,
   "id": "5c8eaac7",
   "metadata": {},
   "outputs": [],
   "source": [
    "import requests\n",
    "import pandas as pd\n",
    "import numpy as np\n",
    "import sqlalchemy as sqla\n",
    "import requests_cache\n",
    "import plotnine as p9\n",
    "import time\n",
    "import spotipy\n",
    "from spotipy.oauth2 import SpotifyClientCredentials"
   ]
  },
  {
   "cell_type": "code",
   "execution_count": 2,
   "id": "15a81fe0",
   "metadata": {},
   "outputs": [],
   "source": [
    "client_id = '65580595dc324a1cb2e890e9800479c4'\n",
    "client_secret = '20a9994294354eae8ef6cc4ea75e48a3'\n",
    "\n",
    "client_credentials_manager = SpotifyClientCredentials(client_id,client_secret)\n",
    "sp = spotipy.Spotify(client_credentials_manager=client_credentials_manager)"
   ]
  },
  {
   "cell_type": "code",
   "execution_count": 47,
   "id": "2a98082a",
   "metadata": {},
   "outputs": [],
   "source": [
    "username = 'spotify:user:ef8zswxc6q41041caiq7x28pa'\n",
    "playlist_id = 'spotify:playlist:4FLeoROn5GT7n2tZq5XB4V?offset=101'\n",
    "#album_id = 'spotify:album:0jKnYgav4YIHNyzfpm5eoF'"
   ]
  },
  {
   "cell_type": "code",
   "execution_count": 48,
   "id": "2289f879",
   "metadata": {},
   "outputs": [],
   "source": [
    "def show_tracks(results,uriArray):\n",
    "    for i,item in enumerate(results[\"items\"]):\n",
    "        track = item[\"track\"]\n",
    "        uriArray.append(track[\"id\"])\n",
    "\n",
    "def get_playlist_track_id(username, playlist_id):\n",
    "    trackId = []\n",
    "    results = sp.user_playlist(username, playlist_id)\n",
    "    tracks = results['tracks']\n",
    "    show_tracks(tracks,trackId)\n",
    "    while tracks['next']:\n",
    "        tracks = sp.next(tracks)\n",
    "        show_tracks(tracks, trackId)\n",
    "    return trackId\n",
    "\n",
    "var = get_playlist_track_id(username, playlist_id) # 205 tracks in TikTok playlist"
   ]
  },
  {
   "cell_type": "code",
   "execution_count": 54,
   "id": "3386e81b",
   "metadata": {
    "scrolled": false
   },
   "outputs": [],
   "source": [
    "# Function to extract MetaData from a playlist thats longer than 100 songs\n",
    "def get_playlist_tracks_more_than_100_songs(username, playlist_id):\n",
    "    results = sp.user_playlist_tracks(username,playlist_id)['tracks']\n",
    "    tracks = results['items']\n",
    "    while results['next']:\n",
    "        results = sp.next(results)\n",
    "        tracks.extend(results['items'])\n",
    "    results = tracks    \n",
    "\n",
    "    playlist_tracks_id = []\n",
    "    playlist_tracks_titles = []\n",
    "    playlist_tracks_artists = []\n",
    "    playlist_tracks_first_artists = []\n",
    "    playlist_tracks_first_release_date = []\n",
    "    playlist_tracks_popularity = []\n",
    "\n",
    "    for i in range(len(results)):\n",
    "        if i == 0:\n",
    "            playlist_tracks_id = results[i]['track']['id']\n",
    "            playlist_tracks_titles = results[i]['track']['name']\n",
    "            playlist_tracks_first_release_date = results[i]['track']['album']['release_date']\n",
    "            playlist_tracks_popularity = results[i]['track']['popularity']\n",
    "\n",
    "            artist_list = []\n",
    "            for artist in results[i]['track']['artists']:\n",
    "                artist_list= artist['name']\n",
    "            playlist_tracks_artists = artist_list\n",
    "\n",
    "            features = sp.audio_features(playlist_tracks_id)\n",
    "            features_df = pd.DataFrame(data=features, columns=features[0].keys())\n",
    "            features_df['title'] = playlist_tracks_titles\n",
    "            features_df['all_artists'] = playlist_tracks_artists\n",
    "            features_df['popularity'] = playlist_tracks_popularity\n",
    "            features_df['release_date'] = playlist_tracks_first_release_date\n",
    "            features_df = features_df[['id', 'title', 'all_artists', 'popularity', 'release_date',\n",
    "                                       'danceability', 'energy', 'key', 'loudness',\n",
    "                                       'mode', 'acousticness', 'instrumentalness',\n",
    "                                       'liveness', 'valence', 'tempo',\n",
    "                                       'duration_ms', 'time_signature']]\n",
    "            continue\n",
    "        else:\n",
    "            try:\n",
    "                playlist_tracks_id = results[i]['track']['id']\n",
    "                playlist_tracks_titles = results[i]['track']['name']\n",
    "                playlist_tracks_first_release_date = results[i]['track']['album']['release_date']\n",
    "                playlist_tracks_popularity = results[i]['track']['popularity']\n",
    "                artist_list = []\n",
    "                for artist in results[i]['track']['artists']:\n",
    "                    artist_list= artist['name']\n",
    "                playlist_tracks_artists = artist_list\n",
    "                features = sp.audio_features(playlist_tracks_id)\n",
    "                new_row = {'id':[playlist_tracks_id],\n",
    "               'title':[playlist_tracks_titles],\n",
    "               'all_artists':[playlist_tracks_artists],\n",
    "               'popularity':[playlist_tracks_popularity],\n",
    "               'release_date':[playlist_tracks_first_release_date],\n",
    "               'danceability':[features[0]['danceability']],\n",
    "               'energy':[features[0]['energy']],\n",
    "               'key':[features[0]['key']],\n",
    "               'loudness':[features[0]['loudness']],\n",
    "               'mode':[features[0]['mode']],\n",
    "               'acousticness':[features[0]['acousticness']],\n",
    "               'instrumentalness':[features[0]['instrumentalness']],\n",
    "               'liveness':[features[0]['liveness']],\n",
    "               'valence':[features[0]['valence']],\n",
    "               'tempo':[features[0]['tempo']],\n",
    "               'duration_ms':[features[0]['duration_ms']],\n",
    "               'time_signature':[features[0]['time_signature']]\n",
    "               }\n",
    "                dfs = [features_df, pd.DataFrame(new_row)]\n",
    "                features_df = pd.concat(dfs, ignore_index = True)\n",
    "            except:\n",
    "                continue\n",
    "                \n",
    "    return features_df\n",
    "\n",
    "df = get_playlist_tracks_more_than_100_songs(username, playlist_id)\n",
    "df.to_csv(\"TikTok_Playlist.csv\",index=False)"
   ]
  }
 ],
 "metadata": {
  "kernelspec": {
   "display_name": "Python 3",
   "language": "python",
   "name": "python3"
  },
  "language_info": {
   "codemirror_mode": {
    "name": "ipython",
    "version": 3
   },
   "file_extension": ".py",
   "mimetype": "text/x-python",
   "name": "python",
   "nbconvert_exporter": "python",
   "pygments_lexer": "ipython3",
   "version": "3.8.8"
  }
 },
 "nbformat": 4,
 "nbformat_minor": 5
}
