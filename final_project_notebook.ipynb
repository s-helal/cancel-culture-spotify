{
 "cells": [
  {
   "cell_type": "markdown",
   "id": "3173905b",
   "metadata": {},
   "source": [
    "# Final Project STA141B: \n",
    "## Do public scandals affect the viewer count of Popular Music Artists?"
   ]
  },
  {
   "cell_type": "code",
   "execution_count": 1,
   "id": "aa3aefd3",
   "metadata": {},
   "outputs": [
    {
     "name": "stdout",
     "output_type": "stream",
     "text": [
      "Requirement already satisfied: spotipy in c:\\users\\samih\\anaconda3\\lib\\site-packages (2.19.0)\n",
      "Requirement already satisfied: six>=1.15.0 in c:\\users\\samih\\anaconda3\\lib\\site-packages (from spotipy) (1.15.0)\n",
      "Requirement already satisfied: requests>=2.25.0 in c:\\users\\samih\\anaconda3\\lib\\site-packages (from spotipy) (2.25.1)\n",
      "Requirement already satisfied: urllib3>=1.26.0 in c:\\users\\samih\\anaconda3\\lib\\site-packages (from spotipy) (1.26.4)\n",
      "Requirement already satisfied: certifi>=2017.4.17 in c:\\users\\samih\\anaconda3\\lib\\site-packages (from requests>=2.25.0->spotipy) (2021.10.8)\n",
      "Requirement already satisfied: idna<3,>=2.5 in c:\\users\\samih\\anaconda3\\lib\\site-packages (from requests>=2.25.0->spotipy) (2.10)\n",
      "Requirement already satisfied: chardet<5,>=3.0.2 in c:\\users\\samih\\anaconda3\\lib\\site-packages (from requests>=2.25.0->spotipy) (4.0.0)\n"
     ]
    }
   ],
   "source": [
    "!pip install spotipy"
   ]
  },
  {
   "cell_type": "code",
   "execution_count": 2,
   "id": "5c8eaac7",
   "metadata": {},
   "outputs": [],
   "source": [
    "import requests\n",
    "import pandas as pd\n",
    "import numpy as np\n",
    "import sqlalchemy as sqla\n",
    "# import requests_cache\n",
    "import plotnine as p9\n",
    "import time\n",
    "import spotipy\n",
    "from spotipy.oauth2 import SpotifyClientCredentials"
   ]
  },
  {
   "cell_type": "code",
   "execution_count": 3,
   "id": "15a81fe0",
   "metadata": {},
   "outputs": [],
   "source": [
    "client_id = '65580595dc324a1cb2e890e9800479c4'\n",
    "client_secret = '20a9994294354eae8ef6cc4ea75e48a3'\n",
    "\n",
    "client_credentials_manager = SpotifyClientCredentials(client_id,client_secret)\n",
    "sp = spotipy.Spotify(client_credentials_manager=client_credentials_manager)"
   ]
  },
  {
   "cell_type": "code",
   "execution_count": 7,
   "id": "3386e81b",
   "metadata": {
    "scrolled": true
   },
   "outputs": [],
   "source": [
    "# extract all features of all (over 100) songs on a playlist into a dataframe\n",
    "def playlist_to_df(username, playlist_id, tracks_exist = True):\n",
    "    # get JSON of playlist metadata for first page of songs\n",
    "    spotipy_response = sp.user_playlist_tracks(username,playlist_id)\n",
    "    \n",
    "    if tracks_exist:\n",
    "        spotipy_response = spotipy_response['tracks']\n",
    "    \n",
    "    # record track information\n",
    "    results = spotipy_response['items']\n",
    "    \n",
    "    # while there is a next page of songs (100 songs per page)\n",
    "    while spotipy_response['next']:\n",
    "        # replace previous page information with new page\n",
    "        spotipy_response = sp.next(spotipy_response)\n",
    "        \n",
    "        # add track information to list\n",
    "        results.extend(spotipy_response['items']) \n",
    "    \n",
    "    first = True\n",
    "    \n",
    "    # loop through tracks\n",
    "    for item in results:\n",
    "        try:\n",
    "            track = item['track']\n",
    "            \n",
    "            # extract id and other features from track metadata and store in dictionary\n",
    "            ids = track['id']\n",
    "            \n",
    "            artist_list = []\n",
    "            for artist in track['artists']:\n",
    "                artist_list.append(artist['name'])\n",
    "\n",
    "            new_row = {'id':[track['id']], 'title':[track['name']], 'all_artists':[artist_list],\n",
    "                       'popularity':[track['popularity']], \n",
    "                       'release_date':[track['album']['release_date']]}\n",
    "\n",
    "            # extract given features for track and add to dictionary\n",
    "            features = sp.audio_features(ids)[0]\n",
    "            \n",
    "            for key in features:\n",
    "                new_row[key] = [features[key]]\n",
    "            \n",
    "            # turn dictionary into dataframe\n",
    "            new_df = pd.DataFrame(new_row)\n",
    "            \n",
    "            # create new dataframe or add to existing dataframe\n",
    "            if first:\n",
    "                features_df = new_df\n",
    "                first = False\n",
    "            else:\n",
    "                features_df = pd.concat([features_df, new_df], ignore_index = True)\n",
    "                \n",
    "        except:\n",
    "            continue\n",
    "            \n",
    "    # drop unnecessary features\n",
    "    features_df = features_df.drop(['speechiness', 'type', 'uri', 'track_href', 'analysis_url'], axis=1)\n",
    "    \n",
    "    # return dataframe with all songs and desired features\n",
    "    return features_df"
   ]
  },
  {
   "cell_type": "code",
   "execution_count": 5,
   "id": "a99e2854",
   "metadata": {},
   "outputs": [],
   "source": [
    "username = 'spotify:user:ef8zswxc6q41041caiq7x28pa'\n",
    "playlist_id = 'spotify:playlist:4FLeoROn5GT7n2tZq5XB4V?offset=101'\n",
    "df_tiktok = playlist_to_df(username, playlist_id)\n",
    "df_tiktok.to_csv(\"TikTok_Playlist.csv\", index=False)"
   ]
  },
  {
   "cell_type": "code",
   "execution_count": 8,
   "id": "458f6092",
   "metadata": {},
   "outputs": [],
   "source": [
    "username = 'spotify:user:spotify'\n",
    "playlist_id = 'spotify:playlist:37i9dQZF1DWVRSukIED0e9'\n",
    "df_2019 = playlist_to_df(username, playlist_id, tracks_exist = False)\n",
    "df_2019.to_csv(\"Popular_Playlist_2019.csv\", index=False)"
   ]
  },
  {
   "cell_type": "code",
   "execution_count": 10,
   "id": "ceec68ac",
   "metadata": {},
   "outputs": [],
   "source": [
    "username = 'spotify:user:spotify'\n",
    "playlist_id = 'spotify:playlist:37i9dQZF1DX7Jl5KP2eZaS'\n",
    "df_2020 = playlist_to_df(username, playlist_id, tracks_exist = False)\n",
    "df_2020.to_csv(\"Popular_Playlist_2020.csv\", index=False)"
   ]
  },
  {
   "cell_type": "code",
   "execution_count": 12,
   "id": "595df312",
   "metadata": {},
   "outputs": [],
   "source": [
    "username = 'spotify:user:nick170708%21'\n",
    "playlist_id = 'spotify:playlist:5GhQiRkGuqzpWZSE7OU4Se'\n",
    "df_2021 = playlist_to_df(username, playlist_id, tracks_exist = False)\n",
    "df_2021.to_csv(\"Popular_Playlist_2021.csv\", index=False)"
   ]
  }
 ],
 "metadata": {
  "kernelspec": {
   "display_name": "Python 3",
   "language": "python",
   "name": "python3"
  },
  "language_info": {
   "codemirror_mode": {
    "name": "ipython",
    "version": 3
   },
   "file_extension": ".py",
   "mimetype": "text/x-python",
   "name": "python",
   "nbconvert_exporter": "python",
   "pygments_lexer": "ipython3",
   "version": "3.8.8"
  }
 },
 "nbformat": 4,
 "nbformat_minor": 5
}
